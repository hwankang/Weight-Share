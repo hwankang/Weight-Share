{
  "nbformat": 4,
  "nbformat_minor": 0,
  "metadata": {
    "colab": {
      "name": "Weight-Share0828.ipynb",
      "private_outputs": true,
      "provenance": [],
      "authorship_tag": "ABX9TyNRnLCQW2a8mG/NvPRDPJGJ",
      "include_colab_link": true
    },
    "kernelspec": {
      "name": "python3",
      "display_name": "Python 3"
    },
    "language_info": {
      "name": "python"
    }
  },
  "cells": [
    {
      "cell_type": "markdown",
      "metadata": {
        "id": "view-in-github",
        "colab_type": "text"
      },
      "source": [
        "<a href=\"https://colab.research.google.com/github/hwankang/Weight-Share/blob/master/Weight_Share0828.ipynb\" target=\"_parent\"><img src=\"https://colab.research.google.com/assets/colab-badge.svg\" alt=\"Open In Colab\"/></a>"
      ]
    },
    {
      "cell_type": "code",
      "execution_count": null,
      "metadata": {
        "id": "QgZuaAuWyRab"
      },
      "outputs": [],
      "source": [
        "!git clone https://github.com/hwankang/Weight-Share"
      ]
    },
    {
      "cell_type": "code",
      "source": [
        "%cd Weight-Share"
      ],
      "metadata": {
        "id": "A4SoxmEW0Ga_"
      },
      "execution_count": null,
      "outputs": []
    },
    {
      "cell_type": "code",
      "source": [
        "#import weight_share\n",
        "import numpy as np\n",
        "import matplotlib.pyplot as plt\n",
        "import tensorflow as tf\n",
        "from weight_share.data import get_chimiometrie_2019_data, get_SWRI_data, dataaugment\n",
        "from weight_share.training import train_weight_share, train_cnn, train_transfer\n",
        "from weight_share.build_graphs import restore_predictor,restore_cnn_predictor\n",
        "from weight_share.misc import read_losses\n",
        "from sklearn.model_selection import train_test_split"
      ],
      "metadata": {
        "id": "HEuf4nruykFG"
      },
      "execution_count": null,
      "outputs": []
    },
    {
      "cell_type": "code",
      "source": [
        "!wget https://chemom2019.sciencesconf.org/resource/page/id/13\n",
        "X_2019,Y_2019,XTest_2019 = get_chimiometrie_2019_data()\n",
        "X_SWRI_all,Y_SWRI_all = get_SWRI_data()\n",
        "import matplotlib.pyplot as plt\n",
        "f,(ax1,ax2) = plt.subplots(1,2,figsize = (15,5))\n",
        "\n",
        "ax1.plot(X_2019[:500].T)\n",
        "ax2.plot(X_SWRI_all.T)\n",
        "\n",
        "ax1.set_title(\"Chimiometrie 2019\")\n",
        "ax1.set_ylabel(\"Absorption\")\n",
        "ax2.set_title(\"SWRI\")\n",
        "f.tight_layout()\n",
        "X_2019,Y_2019,XTest_2019 = get_chimiometrie_2019_data()\n",
        "X_SWRI_all,Y_SWRI_all = get_SWRI_data()\n",
        "f,(ax1,ax2) = plt.subplots(1,2,figsize = (15,5))\n",
        "ax1.plot(X_2019[:500].T)\n",
        "ax2.plot(X_SWRI_all.T)\n",
        "\n",
        "ax1.set_title(\"Chimiometrie 2019\")\n",
        "ax1.set_ylabel(\"Absorption\")\n",
        "ax2.set_title(\"SWRI\")\n",
        "f.tight_layout()"
      ],
      "metadata": {
        "id": "-RNsDrod3Zf1"
      },
      "execution_count": null,
      "outputs": []
    },
    {
      "cell_type": "code",
      "source": [],
      "metadata": {
        "id": "ahKrgT7w3R6d"
      },
      "execution_count": null,
      "outputs": []
    }
  ]
}